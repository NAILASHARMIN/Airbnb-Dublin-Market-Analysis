{
 "cells": [
  {
   "cell_type": "markdown",
   "id": "871459c1",
   "metadata": {},
   "source": [
    "# Assignment\n",
    "\n",
    "Analyze the provided data and answer the questions to the best of your abilities. \n",
    "In particular, we are interested in:\n",
    "\n",
    "- what the gaps are between guest demand and host supply that the new city manager could plug to increase the number of bookings in Dublin,\n",
    "- what other data would be useful to have to deepen the analysis and understanding.\n",
    "\n",
    "My Approach:\n",
    "\n",
    "1. Clean & pre-process with python\n",
    "2. Use tableau for further visualization"
   ]
  },
  {
   "cell_type": "code",
   "execution_count": null,
   "id": "bd56f8b2",
   "metadata": {},
   "outputs": [],
   "source": [
    "#necessary packages\n",
    "import pandas as pd\n",
    "import numpy as np\n",
    "import seaborn as sns\n",
    "import matplotlib.pyplot as plt"
   ]
  },
  {
   "cell_type": "code",
   "execution_count": null,
   "id": "77d709be",
   "metadata": {},
   "outputs": [],
   "source": [
    "import matplotlib.pyplot as plt\n",
    "import os\n",
    "%matplotlib inline\n",
    "import seaborn as sns\n",
    "print(pd.__version__)"
   ]
  },
  {
   "cell_type": "code",
   "execution_count": null,
   "id": "053e247c",
   "metadata": {},
   "outputs": [],
   "source": [
    "# These codes ensure the dataframe is shown fully\n",
    "import io\n",
    "pd.set_option('display.max_columns', None)\n",
    "pd.options.display.max_columns = None"
   ]
  },
  {
   "cell_type": "code",
   "execution_count": null,
   "id": "592bcd3a",
   "metadata": {},
   "outputs": [],
   "source": [
    "#Below code shows all the file in my fiule directory\n",
    "!tar cvfz zipname.tar.gz *"
   ]
  },
  {
   "cell_type": "code",
   "execution_count": null,
   "id": "0d14edde",
   "metadata": {},
   "outputs": [],
   "source": [
    "searches = pd.read_excel(\"Searches.xlsx\")\n",
    "# iterating the columns\n",
    "for col in searches.columns:\n",
    "    print(col)"
   ]
  },
  {
   "cell_type": "code",
   "execution_count": null,
   "id": "26ea3ce3",
   "metadata": {},
   "outputs": [],
   "source": [
    "country = pd.read_csv(\"country_csv.csv\")"
   ]
  },
  {
   "cell_type": "markdown",
   "id": "6eb333f6",
   "metadata": {},
   "source": [
    "## Merging the full country name with searches dataset "
   ]
  },
  {
   "cell_type": "code",
   "execution_count": null,
   "id": "db46c5a6",
   "metadata": {},
   "outputs": [],
   "source": [
    "country.columns"
   ]
  },
  {
   "cell_type": "code",
   "execution_count": null,
   "id": "17041d70",
   "metadata": {},
   "outputs": [],
   "source": [
    "#Renaming the column for merging\n",
    "country.rename(columns={'Code':'origin_country'},inplace = True)"
   ]
  },
  {
   "cell_type": "code",
   "execution_count": null,
   "id": "8cc9ab89",
   "metadata": {},
   "outputs": [],
   "source": [
    "country.columns"
   ]
  },
  {
   "cell_type": "code",
   "execution_count": null,
   "id": "33019798",
   "metadata": {},
   "outputs": [],
   "source": [
    "searches_cn = pd.merge(searches, country, on='origin_country',\n",
    "                      how='left') \n",
    "#new dataset searches with searches_cn title"
   ]
  },
  {
   "cell_type": "code",
   "execution_count": null,
   "id": "6d07ab8a",
   "metadata": {},
   "outputs": [],
   "source": [
    "#Now Renaming the column for better identificATION \n",
    "searches_cn.rename(columns={'Name':'guest_country'},inplace = True)"
   ]
  },
  {
   "cell_type": "code",
   "execution_count": null,
   "id": "ac2c8d50",
   "metadata": {},
   "outputs": [],
   "source": [
    "# iterating the columns\n",
    "for col in searches_cn.columns:\n",
    "    print(col)"
   ]
  },
  {
   "cell_type": "markdown",
   "id": "b3ff05cb",
   "metadata": {},
   "source": [
    "### Dropping the code name of countries "
   ]
  },
  {
   "cell_type": "code",
   "execution_count": null,
   "id": "8a6b6a52",
   "metadata": {},
   "outputs": [],
   "source": [
    "searches_cn.info()"
   ]
  },
  {
   "cell_type": "code",
   "execution_count": null,
   "id": "eb750fae",
   "metadata": {},
   "outputs": [],
   "source": [
    "# Remove columns as index base\n",
    "#searches_cn.drop(searches_cn.columns[[8]], axis=1, inplace=True)"
   ]
  },
  {
   "cell_type": "code",
   "execution_count": null,
   "id": "4a718bc3",
   "metadata": {},
   "outputs": [],
   "source": [
    "searches_cn.head()"
   ]
  },
  {
   "cell_type": "markdown",
   "id": "8f92e441",
   "metadata": {},
   "source": [
    "# Handling Missing Values in 'Searches' Dataframe"
   ]
  },
  {
   "cell_type": "markdown",
   "id": "5aa09e25",
   "metadata": {},
   "source": [
    "I will create two seperate dataframes one with all the non-null values of filter_neighborhoods and another without the whole filter_neighborhoods column. \n",
    "\n",
    "Because filter_neighborhoods has too many null values working with this will effect other calculation. Again I would like to get some insights from the few filter_neighborhoods values that exists in the dataset. Thus creating two sperate df for clarity."
   ]
  },
  {
   "cell_type": "markdown",
   "id": "fafe3a0a",
   "metadata": {},
   "source": [
    "# Neighborhood Only dataframe"
   ]
  },
  {
   "cell_type": "code",
   "execution_count": null,
   "id": "c1d725fa",
   "metadata": {},
   "outputs": [],
   "source": [
    "neighborhood_only = searches_cn.dropna(subset=['filter_neighborhoods'])"
   ]
  },
  {
   "cell_type": "code",
   "execution_count": null,
   "id": "71ce7b31",
   "metadata": {},
   "outputs": [],
   "source": [
    "neighborhood_only['filter_room_types'] = neighborhood_only['filter_room_types'].str.strip(',')"
   ]
  },
  {
   "cell_type": "code",
   "execution_count": null,
   "id": "4ef4fa75",
   "metadata": {},
   "outputs": [],
   "source": [
    "neighborhood_only['filter_neighborhoods'] = neighborhood_only['filter_neighborhoods'].str.strip(',')"
   ]
  },
  {
   "cell_type": "code",
   "execution_count": null,
   "id": "f34d6456",
   "metadata": {},
   "outputs": [],
   "source": [
    "neighborhood_only = neighborhood_only.dropna(subset=['ds_checkin'])"
   ]
  },
  {
   "cell_type": "code",
   "execution_count": null,
   "id": "e6daccf5",
   "metadata": {},
   "outputs": [],
   "source": [
    "neighborhood_only.head()"
   ]
  },
  {
   "cell_type": "code",
   "execution_count": null,
   "id": "f7d539d8",
   "metadata": {},
   "outputs": [],
   "source": [
    "neighborhood_only.info()"
   ]
  },
  {
   "cell_type": "code",
   "execution_count": null,
   "id": "c14cc40d",
   "metadata": {},
   "outputs": [],
   "source": [
    "neighborhood_only.isna().sum() "
   ]
  },
  {
   "cell_type": "markdown",
   "id": "a20ff546",
   "metadata": {},
   "source": [
    "I will fill the null values in filter_price_min & filter_price_max with median values. Because there are very extreme values in these columns using mean will affect any kind of price calculations"
   ]
  },
  {
   "cell_type": "code",
   "execution_count": null,
   "id": "aeee6559",
   "metadata": {},
   "outputs": [],
   "source": [
    "neighborhood_only['filter_price_max'] = neighborhood_only['filter_price_max'].fillna((neighborhood_only['filter_price_max'].median()))"
   ]
  },
  {
   "cell_type": "code",
   "execution_count": null,
   "id": "e4eb1ae5",
   "metadata": {},
   "outputs": [],
   "source": [
    "neighborhood_only['filter_price_min'] = neighborhood_only['filter_price_min'].fillna((neighborhood_only['filter_price_min'].median()))"
   ]
  },
  {
   "cell_type": "code",
   "execution_count": null,
   "id": "8e41ee05",
   "metadata": {},
   "outputs": [],
   "source": [
    "neighborhood_only.isna().sum() "
   ]
  },
  {
   "cell_type": "markdown",
   "id": "001455c1",
   "metadata": {},
   "source": [
    "Lastly I will fill the filter_room_types with blank space rather than dropping the na's"
   ]
  },
  {
   "cell_type": "code",
   "execution_count": null,
   "id": "ffec5809",
   "metadata": {},
   "outputs": [],
   "source": [
    "neighborhood_only[['filter_room_types']]  = neighborhood_only[['filter_room_types']] .fillna('')\n"
   ]
  },
  {
   "cell_type": "code",
   "execution_count": null,
   "id": "1ca790f0",
   "metadata": {},
   "outputs": [],
   "source": [
    "neighborhood_only = neighborhood_only.dropna(subset=['guest_country'])"
   ]
  },
  {
   "cell_type": "code",
   "execution_count": null,
   "id": "2e05ad72",
   "metadata": {},
   "outputs": [],
   "source": [
    "neighborhood_only.info()"
   ]
  },
  {
   "cell_type": "code",
   "execution_count": null,
   "id": "dabfb3d1",
   "metadata": {},
   "outputs": [],
   "source": [
    "neighborhood_only.isna().sum() "
   ]
  },
  {
   "cell_type": "markdown",
   "id": "6a4b0cd8",
   "metadata": {},
   "source": [
    "### Pandas Profiling for neighborhood_only dataset"
   ]
  },
  {
   "cell_type": "code",
   "execution_count": null,
   "id": "4870255c",
   "metadata": {},
   "outputs": [],
   "source": [
    "pip install pandas-profiling"
   ]
  },
  {
   "cell_type": "code",
   "execution_count": null,
   "id": "7a7c9afb",
   "metadata": {},
   "outputs": [],
   "source": [
    "from pandas_profiling import ProfileReport\n",
    "prof = ProfileReport(neighborhood_only)\n",
    "prof.to_file(output_file='output.html')"
   ]
  },
  {
   "cell_type": "code",
   "execution_count": null,
   "id": "43044020",
   "metadata": {},
   "outputs": [],
   "source": [
    "prof"
   ]
  },
  {
   "cell_type": "markdown",
   "id": "e81bd7ee",
   "metadata": {},
   "source": [
    "# Finding From Exploratory Analysis for neighborhood_only df\n",
    "\n",
    "- Average #nights 6.59\n",
    "- Most popular home type 'Entire home/apt'\n",
    "- Most popular neighborhood City Centre\n",
    "- Top country for searching Dublin Airbnb is USA\n",
    "- There is a correlation between 'filter_room_types' & 'n_searches'"
   ]
  },
  {
   "cell_type": "markdown",
   "id": "28afb3a2",
   "metadata": {},
   "source": [
    "# Visualization in mitosheets neighborhood_only"
   ]
  },
  {
   "cell_type": "code",
   "execution_count": null,
   "id": "33c2244f",
   "metadata": {},
   "outputs": [],
   "source": [
    "pip install dash"
   ]
  },
  {
   "cell_type": "code",
   "execution_count": null,
   "id": "86a665b9",
   "metadata": {
    "scrolled": true
   },
   "outputs": [],
   "source": [
    "import mitosheet\n",
    "mitosheet.sheet(analysis_to_replay=\"id-gihiogiwvl\")"
   ]
  },
  {
   "cell_type": "markdown",
   "id": "3dc861f8",
   "metadata": {},
   "source": [
    "# Searches Dataframe"
   ]
  },
  {
   "cell_type": "code",
   "execution_count": null,
   "id": "052265c3",
   "metadata": {},
   "outputs": [],
   "source": []
  },
  {
   "cell_type": "code",
   "execution_count": null,
   "id": "9e9b4922",
   "metadata": {},
   "outputs": [],
   "source": [
    "searches_cn = searches_cn.drop('filter_neighborhoods', axis=1)"
   ]
  },
  {
   "cell_type": "code",
   "execution_count": null,
   "id": "9f261aa5",
   "metadata": {},
   "outputs": [],
   "source": [
    "#searches_cn = searches_cn.drop('filter_room_types', axis=1)"
   ]
  },
  {
   "cell_type": "code",
   "execution_count": null,
   "id": "4465fac8",
   "metadata": {},
   "outputs": [],
   "source": [
    "searches_cn['filter_room_types'] = searches_cn['filter_room_types'].str.strip(',')"
   ]
  },
  {
   "cell_type": "code",
   "execution_count": null,
   "id": "fa91e2f7",
   "metadata": {},
   "outputs": [],
   "source": [
    "searches_cn['filter_price_max'] = searches_cn['filter_price_max'].fillna((searches_cn['filter_price_max'].median()))\n"
   ]
  },
  {
   "cell_type": "code",
   "execution_count": null,
   "id": "ce904f2c",
   "metadata": {},
   "outputs": [],
   "source": [
    "searches_cn['filter_price_min'] = searches_cn['filter_price_min'].fillna((searches_cn['filter_price_min'].median()))\n"
   ]
  },
  {
   "cell_type": "code",
   "execution_count": null,
   "id": "b013be22",
   "metadata": {},
   "outputs": [],
   "source": [
    "searches_cn.info()"
   ]
  },
  {
   "cell_type": "code",
   "execution_count": null,
   "id": "1acca677",
   "metadata": {},
   "outputs": [],
   "source": [
    "searches_cn.head()"
   ]
  },
  {
   "cell_type": "code",
   "execution_count": null,
   "id": "76eadcdf",
   "metadata": {},
   "outputs": [],
   "source": [
    "searches_cn = searches_cn.dropna(subset=['ds_checkin'])"
   ]
  },
  {
   "cell_type": "code",
   "execution_count": null,
   "id": "56498771",
   "metadata": {},
   "outputs": [],
   "source": [
    "searches_cn = searches_cn.dropna(subset=['guest_country'])"
   ]
  },
  {
   "cell_type": "code",
   "execution_count": null,
   "id": "b0574ba1",
   "metadata": {},
   "outputs": [],
   "source": [
    "searches_cn[['filter_room_types']]  = searches_cn[['filter_room_types']] .fillna('')"
   ]
  },
  {
   "cell_type": "code",
   "execution_count": null,
   "id": "09d6b357",
   "metadata": {},
   "outputs": [],
   "source": [
    "searches_cn.isna().sum() "
   ]
  },
  {
   "cell_type": "code",
   "execution_count": null,
   "id": "805b65a9",
   "metadata": {},
   "outputs": [],
   "source": [
    "searches_cn.info()"
   ]
  },
  {
   "cell_type": "markdown",
   "id": "49584c60",
   "metadata": {},
   "source": [
    "### Pandas Profiling for searches_cn dataset"
   ]
  },
  {
   "cell_type": "code",
   "execution_count": null,
   "id": "a4f8a97e",
   "metadata": {},
   "outputs": [],
   "source": [
    "from pandas_profiling import ProfileReport\n",
    "prof_2 = ProfileReport(searches_cn)\n",
    "prof_2.to_file(output_file='output2.html')"
   ]
  },
  {
   "cell_type": "code",
   "execution_count": null,
   "id": "bccf098e",
   "metadata": {},
   "outputs": [],
   "source": [
    "prof_2"
   ]
  },
  {
   "cell_type": "code",
   "execution_count": null,
   "id": "660cd7c2",
   "metadata": {},
   "outputs": [],
   "source": [
    "import mitosheet\n",
    "mitosheet.sheet(analysis_to_replay=\"id-zguulnwewg\")"
   ]
  },
  {
   "cell_type": "code",
   "execution_count": null,
   "id": "8e68617e",
   "metadata": {},
   "outputs": [],
   "source": []
  },
  {
   "cell_type": "markdown",
   "id": "c2e4ec04",
   "metadata": {},
   "source": [
    "### Pandas Profiling for searches_cn dataset"
   ]
  },
  {
   "cell_type": "code",
   "execution_count": null,
   "id": "cbb57a46",
   "metadata": {},
   "outputs": [],
   "source": [
    "from pandas_profiling import ProfileReport\n",
    "prof_2 = ProfileReport(searches_cn)\n",
    "prof_2.to_file(output_file='output2.html')"
   ]
  },
  {
   "cell_type": "code",
   "execution_count": null,
   "id": "7417702b",
   "metadata": {},
   "outputs": [],
   "source": [
    "prof_2"
   ]
  },
  {
   "cell_type": "markdown",
   "id": "5f1060d0",
   "metadata": {},
   "source": [
    "# Contacts Dataset"
   ]
  },
  {
   "cell_type": "code",
   "execution_count": null,
   "id": "7715beb6",
   "metadata": {},
   "outputs": [],
   "source": [
    "contacts = pd.read_excel(\"Contacts.xlsx\")"
   ]
  },
  {
   "cell_type": "code",
   "execution_count": null,
   "id": "a7f5bd93",
   "metadata": {},
   "outputs": [],
   "source": [
    "contacts"
   ]
  },
  {
   "cell_type": "code",
   "execution_count": null,
   "id": "261208d8",
   "metadata": {},
   "outputs": [],
   "source": [
    "contacts.isna().sum()"
   ]
  },
  {
   "cell_type": "code",
   "execution_count": null,
   "id": "6dc89c4e",
   "metadata": {},
   "outputs": [],
   "source": [
    "contacts = contacts.dropna(subset=['ts_reply_at'])"
   ]
  },
  {
   "cell_type": "code",
   "execution_count": null,
   "id": "cbce2c3e",
   "metadata": {},
   "outputs": [],
   "source": [
    "contacts.isna().sum()"
   ]
  },
  {
   "cell_type": "code",
   "execution_count": null,
   "id": "2ef10168",
   "metadata": {},
   "outputs": [],
   "source": [
    "contacts['tod_guest'] = pd.cut(pd.to_datetime(contacts.ts_contact_at).dt.hour,\n",
    "       bins=[0, 6, 12, 18, 24],\n",
    "       labels=['night', 'morning', 'afternoon', 'evening'],\n",
    "       right=False,\n",
    "       include_lowest=True)\n"
   ]
  },
  {
   "cell_type": "code",
   "execution_count": null,
   "id": "6519d197",
   "metadata": {},
   "outputs": [],
   "source": [
    "contacts['length_of_stay'] = contacts['ds_checkout'] - contacts['ds_checkin']"
   ]
  },
  {
   "cell_type": "code",
   "execution_count": null,
   "id": "f9123262",
   "metadata": {},
   "outputs": [],
   "source": [
    "#converting timedelta64 to days\n",
    "contacts['length_of_stay'] = contacts['length_of_stay'].astype('timedelta64[D]')\n"
   ]
  },
  {
   "cell_type": "code",
   "execution_count": null,
   "id": "4b54ad35",
   "metadata": {},
   "outputs": [],
   "source": [
    "# add a timedelta column if wanted. It's added here for information only\n",
    "# df['time_delta_with_sub'] = df.from_date.sub(df.to_date)  # also works\n",
    "#df['time_delta'] = (df.from_date - df.to_date)\n",
    "contacts['hours_taken_to_reply_guests'] = contacts['ts_reply_at'] - contacts['ts_contact_at']\n"
   ]
  },
  {
   "cell_type": "code",
   "execution_count": null,
   "id": "00ae5dbe",
   "metadata": {},
   "outputs": [],
   "source": [
    "#converting timedelta64 to minutes\n",
    "contacts['hours_taken_to_reply_guests'] = contacts['hours_taken_to_reply_guests'].astype('timedelta64[h]')\n"
   ]
  },
  {
   "cell_type": "code",
   "execution_count": null,
   "id": "7a454fa0",
   "metadata": {},
   "outputs": [],
   "source": [
    "contacts['accepted'] = np.where(np.isnan(contacts['ts_accepted_at']), False, True)\n"
   ]
  },
  {
   "cell_type": "code",
   "execution_count": null,
   "id": "31c14bd2",
   "metadata": {},
   "outputs": [],
   "source": [
    "contacts.isna().sum()"
   ]
  },
  {
   "cell_type": "code",
   "execution_count": null,
   "id": "c8e20b4d",
   "metadata": {
    "scrolled": false
   },
   "outputs": [],
   "source": [
    "import mitosheet\n",
    "mitosheet.sheet(analysis_to_replay=\"id-hbaqdogjsp\")"
   ]
  },
  {
   "cell_type": "code",
   "execution_count": null,
   "id": "284619b7",
   "metadata": {},
   "outputs": [],
   "source": []
  },
  {
   "cell_type": "code",
   "execution_count": null,
   "id": "d9cd13d2",
   "metadata": {},
   "outputs": [],
   "source": []
  },
  {
   "cell_type": "markdown",
   "id": "218eded6",
   "metadata": {},
   "source": [
    "### Pandas Profiling for contacts dataset"
   ]
  },
  {
   "cell_type": "code",
   "execution_count": null,
   "id": "59bb4215",
   "metadata": {},
   "outputs": [],
   "source": [
    "from pandas_profiling import ProfileReport\n",
    "prof_3 = ProfileReport(contacts)\n",
    "prof_3.to_file(output_file='output3.html')"
   ]
  },
  {
   "cell_type": "code",
   "execution_count": null,
   "id": "13986cf4",
   "metadata": {},
   "outputs": [],
   "source": [
    "prof_3"
   ]
  },
  {
   "cell_type": "code",
   "execution_count": null,
   "id": "4b8aaa91",
   "metadata": {},
   "outputs": [],
   "source": []
  },
  {
   "cell_type": "markdown",
   "id": "2fda47eb",
   "metadata": {},
   "source": [
    "### Download Excel File"
   ]
  },
  {
   "cell_type": "code",
   "execution_count": null,
   "id": "b3b05e01",
   "metadata": {},
   "outputs": [],
   "source": [
    "pip install openpyxl"
   ]
  },
  {
   "cell_type": "code",
   "execution_count": null,
   "id": "c48ffc5f",
   "metadata": {},
   "outputs": [],
   "source": [
    "neighborhood_only.to_excel(\"neighborhood_only.xlsx\", encoding=\"utf-8\")"
   ]
  },
  {
   "cell_type": "code",
   "execution_count": null,
   "id": "61685b21",
   "metadata": {},
   "outputs": [],
   "source": [
    "searches_cn.to_excel(\"searches_cn.xlsx\", encoding=\"utf-8\")"
   ]
  },
  {
   "cell_type": "code",
   "execution_count": null,
   "id": "bd44ded1",
   "metadata": {},
   "outputs": [],
   "source": [
    "contacts.to_excel(\"contacts.xlsx\", encoding=\"utf-8\")"
   ]
  },
  {
   "cell_type": "code",
   "execution_count": null,
   "id": "1c71deea",
   "metadata": {},
   "outputs": [],
   "source": []
  },
  {
   "cell_type": "code",
   "execution_count": null,
   "id": "f291fc22",
   "metadata": {},
   "outputs": [],
   "source": []
  },
  {
   "cell_type": "code",
   "execution_count": null,
   "id": "83e60660",
   "metadata": {},
   "outputs": [],
   "source": []
  },
  {
   "cell_type": "code",
   "execution_count": null,
   "id": "a02f3fd9",
   "metadata": {},
   "outputs": [],
   "source": []
  },
  {
   "cell_type": "code",
   "execution_count": null,
   "id": "1eaec04f",
   "metadata": {},
   "outputs": [],
   "source": []
  },
  {
   "cell_type": "code",
   "execution_count": null,
   "id": "ff2477e6",
   "metadata": {},
   "outputs": [],
   "source": []
  },
  {
   "cell_type": "code",
   "execution_count": null,
   "id": "a76f57ed",
   "metadata": {},
   "outputs": [],
   "source": []
  },
  {
   "cell_type": "code",
   "execution_count": null,
   "id": "924144fd",
   "metadata": {},
   "outputs": [],
   "source": []
  },
  {
   "cell_type": "code",
   "execution_count": null,
   "id": "41ed426b",
   "metadata": {},
   "outputs": [],
   "source": []
  },
  {
   "cell_type": "code",
   "execution_count": null,
   "id": "c0310ac3",
   "metadata": {},
   "outputs": [],
   "source": []
  },
  {
   "cell_type": "code",
   "execution_count": null,
   "id": "474210f8",
   "metadata": {},
   "outputs": [],
   "source": []
  },
  {
   "cell_type": "code",
   "execution_count": null,
   "id": "dc531770",
   "metadata": {},
   "outputs": [],
   "source": []
  },
  {
   "cell_type": "code",
   "execution_count": null,
   "id": "763138f4",
   "metadata": {},
   "outputs": [],
   "source": []
  },
  {
   "cell_type": "code",
   "execution_count": null,
   "id": "e8239f1d",
   "metadata": {},
   "outputs": [],
   "source": []
  },
  {
   "cell_type": "code",
   "execution_count": null,
   "id": "c78701c9",
   "metadata": {},
   "outputs": [],
   "source": []
  },
  {
   "cell_type": "code",
   "execution_count": null,
   "id": "a2dfb511",
   "metadata": {},
   "outputs": [],
   "source": []
  },
  {
   "cell_type": "code",
   "execution_count": null,
   "id": "000522f3",
   "metadata": {},
   "outputs": [],
   "source": []
  },
  {
   "cell_type": "code",
   "execution_count": null,
   "id": "6903f4de",
   "metadata": {},
   "outputs": [],
   "source": []
  },
  {
   "cell_type": "code",
   "execution_count": null,
   "id": "1abeb5be",
   "metadata": {},
   "outputs": [],
   "source": []
  },
  {
   "cell_type": "code",
   "execution_count": null,
   "id": "d802b6fa",
   "metadata": {},
   "outputs": [],
   "source": []
  },
  {
   "cell_type": "code",
   "execution_count": null,
   "id": "a20f4478",
   "metadata": {},
   "outputs": [],
   "source": []
  },
  {
   "cell_type": "code",
   "execution_count": null,
   "id": "47d50d12",
   "metadata": {},
   "outputs": [],
   "source": []
  },
  {
   "cell_type": "code",
   "execution_count": null,
   "id": "946882ea",
   "metadata": {},
   "outputs": [],
   "source": []
  },
  {
   "cell_type": "code",
   "execution_count": null,
   "id": "3a38a162",
   "metadata": {},
   "outputs": [],
   "source": []
  },
  {
   "cell_type": "markdown",
   "id": "3c5563c4",
   "metadata": {},
   "source": [
    "Resources Used\n",
    "- https://towardsdatascience.com/exploratory-data-analysis-with-pandas-profiling-de3aae2ddff3"
   ]
  },
  {
   "cell_type": "code",
   "execution_count": null,
   "id": "137b6f8d",
   "metadata": {},
   "outputs": [],
   "source": []
  }
 ],
 "metadata": {
  "kernelspec": {
   "display_name": "Python 3 (ipykernel)",
   "language": "python",
   "name": "python3"
  },
  "language_info": {
   "codemirror_mode": {
    "name": "ipython",
    "version": 3
   },
   "file_extension": ".py",
   "mimetype": "text/x-python",
   "name": "python",
   "nbconvert_exporter": "python",
   "pygments_lexer": "ipython3",
   "version": "3.9.7"
  }
 },
 "nbformat": 4,
 "nbformat_minor": 5
}
